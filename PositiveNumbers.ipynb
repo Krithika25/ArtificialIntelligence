{
 "cells": [
  {
   "cell_type": "markdown",
   "metadata": {},
   "source": [
    "<h1>Write a Python code to display all the positive numbers in a list</h1>"
   ]
  },
  {
   "cell_type": "code",
   "execution_count": 1,
   "metadata": {},
   "outputs": [
    {
     "name": "stdout",
     "output_type": "stream",
     "text": [
      "Enter the number of Elements: 10\n",
      "-90\n",
      "-85\n",
      "50\n",
      "55\n",
      "20\n",
      "10\n",
      "-20\n",
      "-100\n",
      "40\n",
      "65\n"
     ]
    }
   ],
   "source": [
    "#Initialise an Empty list\n",
    "list1=[]\n",
    "\n",
    "#Get the number of elements\n",
    "n=int(input('Enter the number of Elements: '))\n",
    "\n",
    "#Get the elements\n",
    "for i in range(0,n):\n",
    "    element=int(input())\n",
    "    list1.append(element)"
   ]
  },
  {
   "cell_type": "code",
   "execution_count": 2,
   "metadata": {},
   "outputs": [],
   "source": [
    "#Initialise an empty output list to store the positive numbers\n",
    "op=[]\n",
    "\n",
    "#Check if a number is greater than zero\n",
    "for i in range(0,n):\n",
    "    if list1[i]>0:\n",
    "        op.append(list1[i])"
   ]
  },
  {
   "cell_type": "code",
   "execution_count": 6,
   "metadata": {},
   "outputs": [
    {
     "data": {
      "text/plain": [
       "[50, 30, 20, 10, 12, 11]"
      ]
     },
     "execution_count": 6,
     "metadata": {},
     "output_type": "execute_result"
    }
   ],
   "source": [
    "op"
   ]
  },
  {
   "cell_type": "code",
   "execution_count": null,
   "metadata": {},
   "outputs": [],
   "source": []
  }
 ],
 "metadata": {
  "kernelspec": {
   "display_name": "Python 3",
   "language": "python",
   "name": "python3"
  },
  "language_info": {
   "codemirror_mode": {
    "name": "ipython",
    "version": 3
   },
   "file_extension": ".py",
   "mimetype": "text/x-python",
   "name": "python",
   "nbconvert_exporter": "python",
   "pygments_lexer": "ipython3",
   "version": "3.8.2"
  }
 },
 "nbformat": 4,
 "nbformat_minor": 4
}
